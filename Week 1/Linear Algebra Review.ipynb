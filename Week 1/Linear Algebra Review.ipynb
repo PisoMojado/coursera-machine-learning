{
 "cells": [
  {
   "cell_type": "markdown",
   "metadata": {},
   "source": [
    "## Lesson 1\n",
    "This lesson gave an introduction to matrices & vectors. Andrew covered how their indices work, and how their dimensionality is measured.\n",
    "\n",
    "### Notation and Terms\n",
    "* $A_{ij}$ refers to the element within a matrix on the $i^{th}$ row and in the $j^{th}$ column\n",
    "* $\\mathbb{R}$ refers to the set of real numbers (Andrew called this the set of scalar real numbers.\n",
    "\n",
    "Below is some code that Andrew shared to practice matrix manipulation:"
   ]
  },
  {
   "cell_type": "code",
   "execution_count": 4,
   "metadata": {},
   "outputs": [
    {
     "name": "stdout",
     "output_type": "stream",
     "text": [
      "A =\n",
      "\n",
      "    1    2    3\n",
      "    4    5    6\n",
      "    7    8    9\n",
      "   10   11   12\n",
      "\n",
      "v =\n",
      "\n",
      "   1\n",
      "   2\n",
      "   3\n",
      "\n",
      "m =  4\n",
      "n =  3\n",
      "dim_A =\n",
      "\n",
      "   4   3\n",
      "\n",
      "dim_v =\n",
      "\n",
      "   3   1\n",
      "\n",
      "A_23 =  6\n"
     ]
    }
   ],
   "source": [
    "% The ; denotes we are going back to a new row.\n",
    "A = [1, 2, 3; 4, 5, 6; 7, 8, 9; 10, 11, 12]\n",
    "\n",
    "% Initialize a vector \n",
    "v = [1;2;3] \n",
    "\n",
    "% Get the dimension of the matrix A where m = rows and n = columns\n",
    "[m,n] = size(A)\n",
    "\n",
    "% You could also store it this way\n",
    "dim_A = size(A)\n",
    "\n",
    "% Get the dimension of the vector v \n",
    "dim_v = size(v)\n",
    "\n",
    "% Now let's index into the 2nd row 3rd column of matrix A\n",
    "A_23 = A(2,3)\n"
   ]
  },
  {
   "cell_type": "markdown",
   "metadata": {},
   "source": [
    "## Lesson 2\n",
    "This lesson covered matrix addition, matrix dot products and matrix cross products.\n",
    "\n",
    "To add a matrix, you simply add each element at the same index for each matrix, and place it into a new matrix at the same index. He clarifies that addition between matrices requires the same dimensionality.\n",
    "\n",
    "To perform scalar multiplication, you simply multiply the constant against every element in the matrix, and place the result in a new matrix at the same index as the original matrix value's index.\n",
    "\n",
    "To summarize:\n",
    "### Addition\n",
    "$\\begin{bmatrix} a & b \\\\ c & d \\end{bmatrix} + \\begin{bmatrix} w & x \\\\ y & z \\end{bmatrix} = \\begin{bmatrix} a+w & b+x \\\\ c+y & d+z \\end{bmatrix}$\n",
    "### Subtraction\n",
    "$\\begin{bmatrix} a & b \\\\ c & d \\\\ \\end{bmatrix} - \\begin{bmatrix} w & x \\\\ y & z \\\\ \\end{bmatrix} = \\begin{bmatrix} a-w & b-x \\\\ c-y & d-z \\end{bmatrix}$\n",
    "### Scalar multiplication\n",
    "$\\begin{bmatrix} a & b \\\\ c & d \\end{bmatrix} * x =\\begin{bmatrix} a*x & b*x \\\\ c*x & d*x \\end{bmatrix}$\n",
    "### Scalar division\n",
    "$\\begin{bmatrix} a & b \\\\ c & d \\end{bmatrix} / x =\\begin{bmatrix} a /x & b/x \\\\ c /x & d /x \\end{bmatrix}$\n",
    "\n",
    "Andrew also gave us some Octave code to practice with:"
   ]
  },
  {
   "cell_type": "code",
   "execution_count": 2,
   "metadata": {},
   "outputs": [
    {
     "name": "stdout",
     "output_type": "stream",
     "text": [
      "A =\n",
      "\n",
      "   1   2   4\n",
      "   5   3   2\n",
      "\n",
      "B =\n",
      "\n",
      "   1   3   4\n",
      "   1   1   1\n",
      "\n",
      "s =  2\n",
      "add_AB =\n",
      "\n",
      "   2   5   8\n",
      "   6   4   3\n",
      "\n",
      "sub_AB =\n",
      "\n",
      "   0  -1   0\n",
      "   4   2   1\n",
      "\n",
      "mult_As =\n",
      "\n",
      "    2    4    8\n",
      "   10    6    4\n",
      "\n",
      "div_As =\n",
      "\n",
      "   0.50000   1.00000   2.00000\n",
      "   2.50000   1.50000   1.00000\n",
      "\n",
      "add_As =\n",
      "\n",
      "   3   4   6\n",
      "   7   5   4\n",
      "\n"
     ]
    }
   ],
   "source": [
    "% Initialize matrix A and B \n",
    "A = [1, 2, 4; 5, 3, 2]\n",
    "B = [1, 3, 4; 1, 1, 1]\n",
    "\n",
    "% Initialize constant s \n",
    "s = 2\n",
    "\n",
    "% See how element-wise addition works\n",
    "add_AB = A + B \n",
    "\n",
    "% See how element-wise subtraction works\n",
    "sub_AB = A - B\n",
    "\n",
    "% See how scalar multiplication works\n",
    "mult_As = A * s\n",
    "\n",
    "% Divide A by s\n",
    "div_As = A / s\n",
    "\n",
    "% What happens if we have a Matrix + scalar?\n",
    "add_As = A + s\n"
   ]
  },
  {
   "cell_type": "markdown",
   "metadata": {},
   "source": [
    "## Lesson 3\n",
    "This lesson covered matrix-vector cross products.\n",
    "\n",
    "When muliplying a M x N matrix with a N x P matrix, what results is a M x P matrix. With a vector, which is always N x 1 in dimensionality, this means the result is always M x 1 in dimensionality.\n",
    "\n",
    "The algorithm for cross products in linear algebra is simple: We map the column of the vector onto each row of the matrix, multiplying each element and summing the result.\n",
    "\n",
    "$\\begin{bmatrix} a & b \\newline c & d \\newline e & f \\end{bmatrix} \\times \\begin{bmatrix} x \\newline y \\newline \\end{bmatrix} =\\begin{bmatrix} a*x + b*y \\newline c*x + d*y \\newline e*x + f*y\\end{bmatrix}$\n",
    "\n",
    "\n",
    "Andrew also shows us what we can do with this in a linear regression problem: given a set of housing sizes, and a hypothesis function predicting price from house size, we can state the prediction results as a matrix and vector cross product, which will yield the values we will later need for gradient descent. To state our problem you transform the set of house sizes into a N x 2 matrix, where N is the number of house sizes in the training set and each row includes the number 1 in the first column and the value of the house size in the second. You then define a P x 1 vector for your hypothesis function, where P is the number of parameters you have; you start with the first parameter in the top row and each subsequent parameter following, in order.\n",
    "\n",
    "Octave allows us to express this operation very simply:"
   ]
  },
  {
   "cell_type": "code",
   "execution_count": 3,
   "metadata": {},
   "outputs": [
    {
     "name": "stdout",
     "output_type": "stream",
     "text": [
      "A =\n",
      "\n",
      "   1   2   3\n",
      "   4   5   6\n",
      "   7   8   9\n",
      "\n",
      "v =\n",
      "\n",
      "   1\n",
      "   1\n",
      "   1\n",
      "\n",
      "Av =\n",
      "\n",
      "    6\n",
      "   15\n",
      "   24\n",
      "\n"
     ]
    }
   ],
   "source": [
    "% Initialize matrix A \n",
    "A = [1, 2, 3; 4, 5, 6;7, 8, 9] \n",
    "\n",
    "% Initialize vector v \n",
    "v = [1; 1; 1] \n",
    "\n",
    "% Multiply A * v\n",
    "Av = A * v"
   ]
  },
  {
   "cell_type": "markdown",
   "metadata": {},
   "source": [
    "## Lesson 4\n",
    "In this, we dive into the cross product further, this time with full matrix x matrix multiplication.\n",
    "Andrew opens the video explaining that, to solve a linear regression problem numerically (which he mentioned was possible before), we use matrix multiplication as part of the solution.\n",
    "\n",
    "Matrix-matrix multiplication is the same as what we did before, but for each additional column in the second matrix, we perform the calculations with that second vector, or column-wise matrix slice, and store the results in the same location of the resultant matrix (very simple stuff).\n",
    "\n",
    "One thing to always remember is that, to perform cross product operations, you have to ensure that the matrix operands match on their \"adjacent\" dimensional elements, that is, if matrix A is M x N, matrix B will need to be N x P in dimensionality for it to be possible for a cross product to be computed.\n",
    "\n",
    "So, to solve the linear regression problem numerically, you do so by modelling your hypothesis functions as a matrix: each matrix or column slice stores the parameters for the particular hypothesis. Your training set is stored just as it was before: as a matrix, with 1 in the first column of every row (it's for the constant parameter) and the value of your house size in the second for each row.\n",
    "\n",
    "This results in a matrix, in which each vector (again, column-wise slice) is the result set for the hypothesis for that column index.\n",
    "\n",
    "This strategy has been very heavily optimized for in linear programming libraries, as matrix-matrix multiplication is very typical. Ultimately, though, I can see that, if I have a tremendously large training set, and I'm not working with a limited/bounded set of hypothesis functions, it will be computationally expensive, to the point of being infeasible, to identify my ideal hypothesis later with a cost function.\n",
    "\n",
    "To restate the cross product for matrix multiplication:\n",
    "$\\begin{bmatrix} a & b \\\\ c & d \\\\ e & f \\end{bmatrix} \\times \\begin{bmatrix} w & x \\\\ y & z \\\\ \\end{bmatrix} =\\begin{bmatrix} a*w + b*y & a*x + b*z \\\\ c*w + d*y & c*x + d*z \\\\ e*w + f*y & e*x + f*z\\end{bmatrix}$\n",
    "\n",
    "And, again, Andrew gave us some code to play with:"
   ]
  },
  {
   "cell_type": "code",
   "execution_count": 4,
   "metadata": {},
   "outputs": [
    {
     "name": "stdout",
     "output_type": "stream",
     "text": [
      "A =\n",
      "\n",
      "   1   2\n",
      "   3   4\n",
      "   5   6\n",
      "\n",
      "B =\n",
      "\n",
      "   1\n",
      "   2\n",
      "\n",
      "mult_AB =\n",
      "\n",
      "    5\n",
      "   11\n",
      "   17\n",
      "\n"
     ]
    }
   ],
   "source": [
    "% Initialize a 3 by 2 matrix \n",
    "A = [1, 2; 3, 4;5, 6]\n",
    "\n",
    "% Initialize a 2 by 1 matrix \n",
    "B = [1; 2] \n",
    "\n",
    "% We expect a resulting matrix of (3 by 2)*(2 by 1) = (3 by 1) \n",
    "mult_AB = A*B\n",
    "\n",
    "% Make sure you understand why we got that result"
   ]
  },
  {
   "cell_type": "markdown",
   "metadata": {},
   "source": [
    "## Lesson 5\n",
    "\n",
    "This lecture covers properties of the matrix cross product.\n",
    "\n",
    "The first property covered is that the cross product is **not** commutative. That is, the order of the operands does matter for the cross product operator.\n",
    "\n",
    "The second property is that the cross product **is** associative. \n",
    "\n",
    "There is also a special matrix, the identity matrix, or $\\mathbb{I}$ which is associative when multiplying it with another matrix, but the result of the operation is also simply the original matrix multiplied with $\\mathbb{I}$.\n",
    "\n",
    "Below is some code to play with."
   ]
  },
  {
   "cell_type": "code",
   "execution_count": 5,
   "metadata": {},
   "outputs": [
    {
     "name": "stdout",
     "output_type": "stream",
     "text": [
      "A =\n",
      "\n",
      "   1   2\n",
      "   4   5\n",
      "\n",
      "B =\n",
      "\n",
      "   1   1\n",
      "   0   2\n",
      "\n",
      "I =\n",
      "\n",
      "Diagonal Matrix\n",
      "\n",
      "   1   0\n",
      "   0   1\n",
      "\n",
      "IA =\n",
      "\n",
      "   1   2\n",
      "   4   5\n",
      "\n",
      "AI =\n",
      "\n",
      "   1   2\n",
      "   4   5\n",
      "\n",
      "AB =\n",
      "\n",
      "    1    5\n",
      "    4   14\n",
      "\n",
      "BA =\n",
      "\n",
      "    5    7\n",
      "    8   10\n",
      "\n"
     ]
    }
   ],
   "source": [
    "% Initialize random matrices A and B \n",
    "A = [1,2;4,5]\n",
    "B = [1,1;0,2]\n",
    "\n",
    "% Initialize a 2 by 2 identity matrix\n",
    "I = eye(2)\n",
    "\n",
    "% The above notation is the same as I = [1,0;0,1]\n",
    "\n",
    "% What happens when we multiply I*A ? \n",
    "IA = I*A \n",
    "\n",
    "% How about A*I ? \n",
    "AI = A*I \n",
    "\n",
    "% Compute A*B \n",
    "AB = A*B \n",
    "\n",
    "% Is it equal to B*A? \n",
    "BA = B*A \n",
    "\n",
    "% Note that IA = AI but AB != BA"
   ]
  },
  {
   "cell_type": "markdown",
   "metadata": {},
   "source": [
    "## Lesson 6\n",
    "This lecture covers the matrix inverse and matrix transpose operations for manipulating matrices.\n",
    "\n",
    "Andrew covers the concept of an inverse for scalar numbers (he only covers inverse as it relates to multiplication), which is a number that, when multiplied by the original, produces identity, or 1.\n",
    "Matrices have inverses as well, such that $\\mathbb{A}(\\mathbb{A}^{-1}) = \\mathbb{A}^{-1}\\mathbb{A} = \\mathbb{I}$\n",
    "You can solve for a matrix's inverse manually by hand, but there is a lot of linear programming sofware that does this for us, including in Octave.\n",
    "Ultimately, not every matrix has an inverse, for the same reason not every scalar number has an inverse under scalar multiplication, e.g. 0\n",
    "\n",
    "Transpose is hella easy. I will skip this section of the video, and just remind myself: transpose is where you take a matrix, and make every row a column, and every column a row. Not the clearest or most correct explanation of what it is, but I know what matrix transposition is, and I don't need a reminder. Ugh, writing this up took enough time for Andrew to give a decent explanation: it's a mirroring along the $45^\\circ$ line.\n",
    "\n",
    "Andrew's notes:\n",
    "$$A = \\begin{bmatrix} a & b \\newline c & d \\newline e & f \\end{bmatrix}$$\n",
    "$$A^T = \\begin{bmatrix} a & c & e \\newline b & d & f \\newline \\end{bmatrix}$$\n",
    "$$A_{ij} = A^T_{ji}$$\n",
    "\n",
    "Below is some sample code:"
   ]
  },
  {
   "cell_type": "code",
   "execution_count": null,
   "metadata": {},
   "outputs": [],
   "source": [
    "% Initialize matrix A \n",
    "A = [1,2,0;0,5,6;7,0,9]\n",
    "\n",
    "% Transpose A \n",
    "A_trans = A' \n",
    "\n",
    "% Take the inverse of A \n",
    "A_inv = inv(A)\n",
    "\n",
    "% What is A^(-1)*A? \n",
    "A_invA = inv(A)*A"
   ]
  }
 ],
 "metadata": {
  "kernelspec": {
   "display_name": "Octave",
   "language": "octave",
   "name": "octave"
  },
  "language_info": {
   "file_extension": ".m",
   "help_links": [
    {
     "text": "GNU Octave",
     "url": "https://www.gnu.org/software/octave/support.html"
    },
    {
     "text": "Octave Kernel",
     "url": "https://github.com/Calysto/octave_kernel"
    },
    {
     "text": "MetaKernel Magics",
     "url": "https://github.com/calysto/metakernel/blob/master/metakernel/magics/README.md"
    }
   ],
   "mimetype": "text/x-octave",
   "name": "octave",
   "version": "4.2.1"
  }
 },
 "nbformat": 4,
 "nbformat_minor": 2
}
