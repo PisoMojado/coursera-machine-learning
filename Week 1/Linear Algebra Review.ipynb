{
 "cells": [
  {
   "cell_type": "markdown",
   "metadata": {},
   "source": [
    "## Lesson 1\n",
    "This lesson gave an introduction to matrices & vectors. Andrew covered how their indices work, and how their dimensionality is measured.\n",
    "\n",
    "### Notation and Terms\n",
    "* $A_{ij}$ refers to the element within a matrix on the $i^{th}$ row and in the $j^{th}$ column\n",
    "* $\\mathbb{R}$ refers to the set of real numbers (Andrew called this the set of scalar real numbers.\n",
    "\n",
    "Below is some code that Andrew shared to practice matrix manipulation:"
   ]
  },
  {
   "cell_type": "code",
   "execution_count": 4,
   "metadata": {},
   "outputs": [
    {
     "name": "stdout",
     "output_type": "stream",
     "text": [
      "A =\n",
      "\n",
      "    1    2    3\n",
      "    4    5    6\n",
      "    7    8    9\n",
      "   10   11   12\n",
      "\n",
      "v =\n",
      "\n",
      "   1\n",
      "   2\n",
      "   3\n",
      "\n",
      "m =  4\n",
      "n =  3\n",
      "dim_A =\n",
      "\n",
      "   4   3\n",
      "\n",
      "dim_v =\n",
      "\n",
      "   3   1\n",
      "\n",
      "A_23 =  6\n"
     ]
    }
   ],
   "source": [
    "% The ; denotes we are going back to a new row.\n",
    "A = [1, 2, 3; 4, 5, 6; 7, 8, 9; 10, 11, 12]\n",
    "\n",
    "% Initialize a vector \n",
    "v = [1;2;3] \n",
    "\n",
    "% Get the dimension of the matrix A where m = rows and n = columns\n",
    "[m,n] = size(A)\n",
    "\n",
    "% You could also store it this way\n",
    "dim_A = size(A)\n",
    "\n",
    "% Get the dimension of the vector v \n",
    "dim_v = size(v)\n",
    "\n",
    "% Now let's index into the 2nd row 3rd column of matrix A\n",
    "A_23 = A(2,3)\n"
   ]
  },
  {
   "cell_type": "markdown",
   "metadata": {},
   "source": [
    "## Lesson 2\n",
    "This lesson covered matrix addition, matrix dot products and matrix cross products.\n",
    "\n",
    "To add a matrix, you simply add each element at the same index for each matrix, and place it into a new matrix at the same index. He clarifies that addition between matrices requires the same dimensionality.\n",
    "\n",
    "To perform scalar multiplication, you simply multiply the constant against every element in the matrix, and place the result in a new matrix at the same index as the original matrix value's index.\n",
    "\n",
    "Below is some code that Andrew shared to help us learn how to multiply and add:"
   ]
  },
  {
   "cell_type": "code",
   "execution_count": null,
   "metadata": {},
   "outputs": [],
   "source": []
  }
 ],
 "metadata": {
  "kernelspec": {
   "display_name": "Octave",
   "language": "octave",
   "name": "octave"
  },
  "language_info": {
   "file_extension": ".m",
   "help_links": [
    {
     "text": "GNU Octave",
     "url": "https://www.gnu.org/software/octave/support.html"
    },
    {
     "text": "Octave Kernel",
     "url": "https://github.com/Calysto/octave_kernel"
    },
    {
     "text": "MetaKernel Magics",
     "url": "https://github.com/calysto/metakernel/blob/master/metakernel/magics/README.md"
    }
   ],
   "mimetype": "text/x-octave",
   "name": "octave",
   "version": "4.2.1"
  }
 },
 "nbformat": 4,
 "nbformat_minor": 2
}
